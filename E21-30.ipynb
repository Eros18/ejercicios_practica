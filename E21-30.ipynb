{
 "cells": [
  {
   "cell_type": "markdown",
   "id": "9a21aefa",
   "metadata": {},
   "source": [
    "### Ejercicio 21\n",
    "Consideremos vectores que consisten solo en unos y ceros. Supongamos también una convención adicional para representar dicho vector. Por ejemplo, un vector:\n",
    "u= [0,1,1,0,1,0,1,0]\n",
    "presentaremos como una secuencia\n",
    "'01101010'\n",
    "Para los vectores así definidos, podemos determinar la distancia de Hamming. La distancia de Hamming de los vectores u y v es el número de elementos donde los vectores u y v son diferentes.\n",
    "\n",
    "Ejemplo: se implementa Hamming_distance() que devuelve la distancia de Hamming de dos vectores:\n",
    "FUNCIÓN\n",
    "\n",
    "El peso del vector <em>u </em>es la distancia de Hamming de este vector desde el vector cero. Entonces, en el caso del vector <code>'1001001'</code>, su peso es igual a la distancia de Hamming del vector <code>'1001001'</code> del vector <code>'0000000'</code>.\n",
    "\n",
    "<p>Implemente una función llamada <code>hamming_weight()</code> que devuelve el peso del vector. En la solución, puede usar la función <code>hamming_distance()</code>. También vale la pena prestar atención a una implementación un poco más simple. El peso de un vector es igual al número de unos en el vector.</p>\n",
    "\n",
    "\n",
    "#### Lecturas recomdendadas\n",
    "https://www.w3schools.com/python/ref_string_count.asp"
   ]
  },
  {
   "cell_type": "code",
   "execution_count": 2,
   "id": "54f8c0d1",
   "metadata": {},
   "outputs": [
    {
     "name": "stdout",
     "output_type": "stream",
     "text": [
      "5\n"
     ]
    }
   ],
   "source": [
    "def hamming_distance(u, v):\n",
    "    if len(u) != len(v):\n",
    "        raise ValueError('Both vectors must be the same length.')\n",
    "    distance = 0\n",
    "    for i in range(len(u)):\n",
    "        if u[i] != v[i]:\n",
    "            distance += 1\n",
    "    return distance\n",
    "#Solucion propia\n",
    "def hamming_weight(u):\n",
    "    weight=0\n",
    "    for i in u:\n",
    "        if i=='1':\n",
    "            weight+=1\n",
    "    return weight\n",
    "\n",
    "#MEJOR SOLUCION\n",
    "def hamming_weight2(u):\n",
    "    return u.count('1')\n",
    "\n",
    "\n",
    "print(hamming_weight('10010110001'))"
   ]
  },
  {
   "cell_type": "markdown",
   "id": "8f468246",
   "metadata": {},
   "source": [
    "### Ejercicio 22\n",
    "<p>Considere el popular juego <strong>Scrabble</strong>. Scrabble es un juego de palabras en el que los jugadores ganan puntos colocando fichas, cada una con una sola letra, en un tablero de juego dividido en una cuadrícula de cuadrados de 15×15. Los mosaicos deben formar palabras que, en forma de crucigrama, se lean de izquierda a derecha en filas o hacia abajo en columnas, y deben incluirse en un diccionario o léxico estándar.</p>\n",
    "\n",
    "<p>Las palabras combinadas se puntúan y el juego lo gana el jugador que en total (en todos los movimientos) anota más puntos que cada uno de los oponentes. El número de puntos se calcula en función de las letras de cada palabra. Cada letra tiene un valor de punto fijo específico.</p>\n",
    "\n",
    "<p>A continuación se muestran las puntuaciones de la versión en inglés:</p>\n",
    "\n",
    "<ul><li><p>mosaico en blanco - 0 pt (generalmente dos en un conjunto)</p></li><li><p>EAIONRTLSU - 1 pt</p></li><li> <p>DG - 2 puntos</p></li><li><p>BCMP - 3 puntos</p></li><li><p>FHVWY - 4 puntos</p></li <li><p>K - 5 puntos</p></li><li><p>JX - 8 puntos</p></li><li><p>QZ - 10 puntos</p ></li></ul>\n",
    "\n",
    "<p>Implemente una función llamada <code>score()</code> que devuelva un resultado para una palabra. Suponemos que la palabra dada es gramaticalmente correcta. Podemos representar un mosaico en blanco para simplificar como un carácter de espacio <code>' '</code>.</p>\n",
    "\n",
    "<p><strong>Consejo: </strong>Podemos usar el módulo integrado de <em>colecciones </em>y la clase <em>ChainMap </em>.</p>"
   ]
  },
  {
   "cell_type": "code",
   "execution_count": 3,
   "id": "3d89662a",
   "metadata": {},
   "outputs": [],
   "source": [
    "letters = {\n",
    "    ' ': 0,\n",
    "    'E': 1,\n",
    "    'A': 1,\n",
    "    'I': 1,\n",
    "    'O': 1,\n",
    "    'N': 1,\n",
    "    'R': 1,\n",
    "    'T': 1,\n",
    "    'L': 1,\n",
    "    'S': 1,\n",
    "    'U': 1,\n",
    "    'D': 2,\n",
    "    'G': 2,\n",
    "    'B': 3,\n",
    "    'C': 3,\n",
    "    'M': 3,\n",
    "    'P': 3,\n",
    "    'F': 4,\n",
    "    'H': 4,\n",
    "    'V': 4,\n",
    "    'W': 4,\n",
    "    'Y': 4,\n",
    "    'K': 5,\n",
    "    'J': 8,\n",
    "    'X': 8,\n",
    "    'Q': 10,\n",
    "    'Z': 10\n",
    "}\n",
    " \n",
    " \n",
    "def score(word):\n",
    "    return sum([letters[letter.upper()] for letter in word])"
   ]
  },
  {
   "cell_type": "markdown",
   "id": "6c937308",
   "metadata": {},
   "source": [
    "### Ejercicio 23\n",
    "<p>Considere el siguiente problema. Hemos dado una secuencia de caracteres y queremos extraer de ella todas las subcadenas de longitud <em>n </em>en el orden en que aparecen en la secuencia.</p>\n",
    "\n",
    "<p>Por ejemplo, de una secuencia de caracteres <code>'python'</code> podemos extraer una serie de 3 dígitos:</p>\n",
    "\n",
    "\n",
    "<p>o 4 dígitos:</p>\n",
    "\n",
    "<p>Implement a function called <code>get_slices()</code> that takes two arguments:</p>\n",
    "\n",
    "<ul><li><p><em>secuencia</em> - la secuencia de caracteres a procesar</p></li><li><p><em>longitud</em> - longitud de las subcadenas que se extraerán de la secuencia</p></li></ul>\n",
    "\n",
    "<p>Si el valor del argumento <em>longitud</em> es menor que 1, genere <em>ValueError</em> con el mensaje: </p>\n",
    "<code>'The length cannot be less than 1.'</code>\n",
    "\n",
    "<p>Si el valor del argumento <em>longitud</em> es mayor que la longitud de la secuencia dada, genera el <em>ValueError</em> con el mensaje: </p>\n",
    "<code>'The length cannot be greater than sequence.'</code>"
   ]
  },
  {
   "cell_type": "code",
   "execution_count": 8,
   "id": "383560a6",
   "metadata": {},
   "outputs": [
    {
     "name": "stdout",
     "output_type": "stream",
     "text": [
      "['654646', '546468', '464684', '646849', '468491', '684917', '849173']\n"
     ]
    }
   ],
   "source": [
    "def get_slices(sec,lon):\n",
    "    if lon < 1:\n",
    "        raise ValueError('The length cannot be less than 1.')\n",
    "    elif len(sec) < lon:\n",
    "        raise ValueError('The length cannot be greater than sequence.')\n",
    "    else:\n",
    "        return [sec[i:i+lon] for i in range(len(sec)-lon+1)]\n",
    "\n",
    "print(get_slices('654646849173',6))\n"
   ]
  },
  {
   "cell_type": "markdown",
   "id": "d036cce1",
   "metadata": {},
   "source": [
    "# D\n",
    "### Ejercicio 24\n",
    "\n",
    "<p>A continuación se muestra un ejemplo de una matriz cuadrada de 3x3 de números en orden espiral:</p>\n",
    "[1,2,3]\n",
    "[8,9,4]\n",
    "[7,6,5]\n",
    "<p>Un ejemplo de una matriz cuadrada de 4x4 de números en orden espiral:</p>\n",
    "[1,2,3,4]\n",
    "[12,13,14,5]\n",
    "[11,16,15,6]\n",
    "[10,9,8,7]\n",
    "<p>Nos movemos en el sentido de las agujas del reloj, empezando por el número 1 y aumentando de 1 en 1.</p>\n",
    "<p>Implemente una función llamada <code>spiral_matrix()</code> que toma el tamaño de la matriz como argumento y genera la matriz en orden espiral con el tamaño dado. Presente la solución en forma de listas anidadas.</p>\n",
    "\n",
    "<p><strong>Consejo: </strong>Puede utilizar el módulo integrado <em>itertools </em>y la clase <em>cycle </em>en su solución.</p>\n"
   ]
  },
  {
   "cell_type": "code",
   "execution_count": null,
   "id": "38114f9a",
   "metadata": {},
   "outputs": [],
   "source": [
    "from itertools import cycle\n",
    " \n",
    " \n",
    "def spiral_matrix(size):\n",
    "    # Preparing an empty matrix\n",
    "    matrix = [[None] * size for _ in range(size)]\n",
    " \n",
    "    # Starting point\n",
    "    x, y = 0, 0\n",
    " \n",
    "    # (0, 1) represents moving right along the matrix row\n",
    "    # (0, -1) represents moving left along the matrix row\n",
    "    # (1, 0) represents moving down along the matrix column\n",
    "    # (-1, 0) represents moving up along the matrix column\n",
    "    movements = cycle(((0, 1), (1, 0), (0, -1), (-1, 0)))\n",
    "    dx, dy = next(movements)\n",
    " \n",
    "    for i in range(size**2):\n",
    "        matrix[x][y] = i + 1\n",
    "        xdx = x + dx\n",
    "        ydy = y + dy\n",
    "        if (\n",
    "            not 0 <= xdx < size\n",
    "            or not 0 <= ydy < size\n",
    "            or matrix[xdx][ydy] is not None\n",
    "        ):\n",
    "            dx, dy = next(movements)\n",
    "        x += dx\n",
    "        y += dy\n",
    "    return matrix"
   ]
  },
  {
   "cell_type": "markdown",
   "id": "19c20899",
   "metadata": {},
   "source": [
    "### Ejercicio 25\n",
    "<p>Se adjunta al ejercicio un archivo llamado <em>hashtags.txt</em> que contiene hashtags relacionados con el deporte:</p>\n",
    "\n",
    "<p>Implemente una función llamada <code>clean_hashtags()</code> que carga el archivo <em>hashtags.txt</em> incluido y hace algo de limpieza. Extraiga hashtags de hasta 4 caracteres de largo. El signo <code>'#'</code> no está incluido en la longitud del hashtag. Por ejemplo, el hashtag <code>'#gym'</code> tiene una longitud de 3.</p>\n",
    "\n",
    "<p>También tenga cuidado de eliminar los duplicados, si los hay. Luego devuelva los hashtags ordenados alfabéticamente como una lista.</p>\n",
    "\n",
    "<p>En respuesta, llame a la función <code>clean_hashtags()</code> e imprima el resultado en la consola.</p>"
   ]
  },
  {
   "cell_type": "code",
   "execution_count": 28,
   "id": "14b5368a",
   "metadata": {},
   "outputs": [
    {
     "name": "stdout",
     "output_type": "stream",
     "text": [
      "<class 'str'>\n",
      "['#bike', '#fit', '#fun', '#gym', '#like', '#love', '#mma', '#nike', '#run', '#team', '#ufc', '#yoga']\n"
     ]
    }
   ],
   "source": [
    "def clean_hashtags():\n",
    "    with open('hashtags.txt', 'r') as file:\n",
    "        content = file.read()\n",
    "    print(type(content))\n",
    "    hashtags = content.split()\n",
    "    short_hashtags = [\n",
    "        hashtag for hashtag in hashtags if len(hashtag) <= 5\n",
    "    ]\n",
    "    result = sorted(set(short_hashtags))\n",
    "    return result\n",
    " \n",
    " \n",
    "print(clean_hashtags())"
   ]
  }
 ],
 "metadata": {
  "kernelspec": {
   "display_name": "Python 3 (ipykernel)",
   "language": "python",
   "name": "python3"
  },
  "language_info": {
   "codemirror_mode": {
    "name": "ipython",
    "version": 3
   },
   "file_extension": ".py",
   "mimetype": "text/x-python",
   "name": "python",
   "nbconvert_exporter": "python",
   "pygments_lexer": "ipython3",
   "version": "3.9.7"
  }
 },
 "nbformat": 4,
 "nbformat_minor": 5
}
